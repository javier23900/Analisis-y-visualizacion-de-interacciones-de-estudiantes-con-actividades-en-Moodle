{
  "nbformat": 4,
  "nbformat_minor": 0,
  "metadata": {
    "colab": {
      "provenance": []
    },
    "kernelspec": {
      "name": "python3",
      "display_name": "Python 3"
    },
    "language_info": {
      "name": "python"
    }
  },
  "cells": [
    {
      "cell_type": "markdown",
      "source": [
        "#AVISO\n",
        "Necesario para poder descargar los documentos PDF con la información."
      ],
      "metadata": {
        "id": "K8JlTS7UMC28"
      }
    },
    {
      "cell_type": "code",
      "source": [
        "!apt-get install libcairo2-dev libjpeg-dev libgif-dev\n",
        "!pip install pycairo\n",
        "\n",
        "import cairo\n",
        "from google.colab import files"
      ],
      "metadata": {
        "id": "myJgPe1PMGm9"
      },
      "execution_count": null,
      "outputs": []
    },
    {
      "cell_type": "code",
      "source": [
        "pip install reportlab"
      ],
      "metadata": {
        "id": "5zobHtf6MH18",
        "colab": {
          "base_uri": "https://localhost:8080/"
        },
        "outputId": "84763b7a-0ecc-4314-87c4-2c33336c823e"
      },
      "execution_count": 1,
      "outputs": [
        {
          "output_type": "stream",
          "name": "stdout",
          "text": [
            "Requirement already satisfied: reportlab in /usr/local/lib/python3.10/dist-packages (4.0.4)\n",
            "Requirement already satisfied: pillow>=9.0.0 in /usr/local/lib/python3.10/dist-packages (from reportlab) (10.0.0)\n"
          ]
        }
      ]
    },
    {
      "cell_type": "markdown",
      "source": [
        "Necesario para poder leer los ficheros con los datos a analizar."
      ],
      "metadata": {
        "id": "QAbF8UQqLoEr"
      }
    },
    {
      "cell_type": "code",
      "source": [
        "pip install ipyfilechooser"
      ],
      "metadata": {
        "id": "Y_DKOZnzsRj6"
      },
      "execution_count": null,
      "outputs": []
    },
    {
      "cell_type": "markdown",
      "source": [
        "Necesario para inicilizar las variables que se van a emplear para almacenar la información."
      ],
      "metadata": {
        "id": "XxZMhYaclUfF"
      }
    },
    {
      "cell_type": "code",
      "source": [
        "diccionario_tema = {}\n",
        "diccionario_fecha = {}\n",
        "diccionario_estudiantes = {}\n",
        "documentos = []\n",
        "\n",
        "diccionario_registros = {}\n",
        "\n",
        "fechas = []"
      ],
      "metadata": {
        "id": "vcUtxc62leqR"
      },
      "execution_count": 2,
      "outputs": []
    },
    {
      "cell_type": "markdown",
      "source": [
        "El código para el correcto funcionamiento y ejecución de la herramienta se encuentra en:\n",
        "\n",
        "https://github.com/javier23900/Analisis-y-visualizacion-de-interacciones-de-estudiantes-con-actividades-en-Moodle.git"
      ],
      "metadata": {
        "id": "en7jMfcW4KdD"
      }
    },
    {
      "cell_type": "markdown",
      "source": [
        "#LECTURA DE DATOS: TEST\n",
        "\n",
        "La siguiente celda permite seleccionar los ficheros .csv con los resultados de los test realizados por los estudiantes.\n",
        "\n",
        "Para cada uno de los ficheros se debe indicar un nombre, por ejemplo, el nombre del tema al que corresponde dentro de la asignatura, para poder identificar su contenido."
      ],
      "metadata": {
        "id": "db1YMhu-uquT"
      }
    },
    {
      "cell_type": "code",
      "source": [
        "from Configuracion_Ficheros import *\n",
        "\n",
        "if __name__ == '__main__':\n",
        "  cargar_test(diccionario_tema, diccionario_fecha, diccionario_estudiantes, documentos)"
      ],
      "metadata": {
        "id": "Ec2RsOsHMVV2"
      },
      "execution_count": null,
      "outputs": []
    },
    {
      "cell_type": "markdown",
      "source": [
        "#LECTURA DE DATOS: REGISTROS\n",
        "\n",
        "La siguiente celda permite seleccionar los ficheros .csv con los registros de acceso de los estudiantes a los recursos de Moodle."
      ],
      "metadata": {
        "id": "WbGI4C7jGcSe"
      }
    },
    {
      "cell_type": "code",
      "source": [
        "from Configuracion_Ficheros import *\n",
        "\n",
        "if __name__ == '__main__':\n",
        "  cargar_registros(diccionario_registros)"
      ],
      "metadata": {
        "id": "cfz0INg_N39m"
      },
      "execution_count": null,
      "outputs": []
    },
    {
      "cell_type": "markdown",
      "source": [
        "#INTERVALOS DE FECHAS\n",
        "\n",
        "La siguiente celda permite seleccionar los rangos de fechas para los cuales se desea analizar los datos."
      ],
      "metadata": {
        "id": "PY2tRMhMJbJ1"
      }
    },
    {
      "cell_type": "code",
      "source": [
        "from Intervalos_fechas import *\n",
        "\n",
        "if __name__ == '__main__':\n",
        "\n",
        "  seleccionar_fechas(fechas)"
      ],
      "metadata": {
        "id": "hfdHod67MWwZ"
      },
      "execution_count": null,
      "outputs": []
    },
    {
      "cell_type": "markdown",
      "source": [
        "#EJECUTAR\n"
      ],
      "metadata": {
        "id": "RSR6eQLELZAw"
      }
    },
    {
      "cell_type": "markdown",
      "source": [
        "A continuación se explica que información permite obtener cada una de las opciones de configuración y ejecución."
      ],
      "metadata": {
        "id": "i45byLCoMZvu"
      }
    },
    {
      "cell_type": "markdown",
      "source": [
        "- **INFORMACIÓN DEL GRUPO**: Proporciona datos sobre los resultados obtenidos por el conjunto de alumnos como grupo para cada uno de los temas seleccionados para cada uno de los intervalos de fecha deseados.\n",
        "\n",
        "  **Opciones de Ejecución:**\n",
        "\n",
        "  - **Temas x Fecha**\n",
        "\n",
        "        Compara los resultados obtenidos por el grupo para cada uno de los temas en determinados periodos de tiempo.\n",
        "\n",
        "  - **Fecha x Temas**\n",
        "\n",
        "        Muestra la evolución de los resultados obtenidos por el grupo para cada uno de los temas en los distintos intervalos de tiempo seleccionados.\n"
      ],
      "metadata": {
        "id": "bBkdieXvMfd4"
      }
    },
    {
      "cell_type": "markdown",
      "source": [
        "- **RANKING DE TEMAS**: Para cada uno de los intervalos de fechas seleccionados ordena los temas a partir de los resultados obtenidos por el grupo para el valor deseado.\n",
        "\n",
        "  **Opciones de Ranking:**\n",
        "\n",
        "  - **Nota Media**\n",
        "\n",
        "  - **Participación**\n",
        "\n",
        "  - **Aprobados**\n",
        "\n",
        "  - **% Aprobados**"
      ],
      "metadata": {
        "id": "C2o1CE0pNTqV"
      }
    },
    {
      "cell_type": "markdown",
      "source": [
        "- **GRÁFICAS DE GRUPO**: Muestra mediante gráficas los resultados obtenidos por el conjunto de alumnos como grupo para cada uno de los temas seleccionados para cada uno de los intervalos de fecha deseados.\n",
        "\n",
        " **Opciones de Ejecución:**\n",
        "\n",
        "  - **Temas x Fecha**\n",
        "\n",
        "          Compara los resultados obtenidos por el grupo para cada uno de los temas en determinados periodo de tiempo.\n",
        "\n",
        "  - **Fecha x Temas**\n",
        "\n",
        "        Muestra la evolución de los resultados obtenidos por el grupo para cada uno de los temas en los distintos intervalos de tiempo seleccionados.\n",
        "\n",
        "  **Opciones de Gráfica:**\n",
        "\n",
        "    - **Nota Media**\n",
        "\n",
        "    - **Participación**\n",
        "\n",
        "    - **Aprobados**\n",
        "\n",
        "    - **% Aprobados**"
      ],
      "metadata": {
        "id": "KW0P_IyQNX-D"
      }
    },
    {
      "cell_type": "markdown",
      "source": [
        "- **INFORMACIÓN DEL ESTUDIANTE**: Proporciona datos sobre los resultados obtenidos por los alumnos, de forma individual, para cada uno de los temas seleccionados para cada uno de los intervalos de fecha deseados.\n",
        "\n",
        "  **Opciones de Ejecución:**\n",
        "\n",
        "  - **Temas x Fecha**\n",
        "\n",
        "        Compara los resultados obtenidos por el estudiante para cada uno de los temas en determinados periodos de tiempo.\n",
        "\n",
        "  - **Fecha x Temas**\n",
        "\n",
        "        Muestra la evolución de los resultados obtenidos por el estudiante para cada uno de los temas en los distintos intervalos de tiempo seleccionados."
      ],
      "metadata": {
        "id": "2FwdlugoNazS"
      }
    },
    {
      "cell_type": "markdown",
      "source": [
        "- **RANKING PARA ESTUDIANTES**: Para cada uno de los intervalos de fecha seleccionados oredena los temas a partir de los resultados obtenidos por el/los estudiantes para el valor deseado.\n",
        "\n",
        "  **Opciones de Ranking:**\n",
        "\n",
        "  - **Nota Media**\n",
        "\n",
        "  - **Participación**\n",
        "\n",
        "  - **Aprobados**\n",
        "\n",
        "  - **% Aprobados**"
      ],
      "metadata": {
        "id": "x0YSz0wZNe9d"
      }
    },
    {
      "cell_type": "markdown",
      "source": [
        "- **RANKING DE ESTUDIANTES**: Para cada uno de los intervalos de fecha y temas seleccionados oredena los estudiantes a partir de los resultados obtenidos para el valor deseado.\n",
        "\n",
        "  **Opciones de Ranking:**\n",
        "\n",
        "  - **Nota Media**\n",
        "\n",
        "  - **Participación**\n",
        "\n",
        "  - **Aprobados**\n",
        "\n",
        "  - **% Aprobados**"
      ],
      "metadata": {
        "id": "0CIw1hDZNhh0"
      }
    },
    {
      "cell_type": "markdown",
      "source": [
        "- **GRAFICAS DE ESTUDIANTE**: Muestra mediante gráficas los resultados obtenidos por el/los estudiantes para cada uno de los temas seleccionados para cada uno de los intervalos de fecha deseados.\n",
        "\n",
        " **Opciones de Ejecución:**\n",
        "\n",
        "  - **Temas x Fecha**\n",
        "\n",
        "          Compara los resultados obtenidos por el estudiante para cada uno de los temas en determinados periodo de tiempo.\n",
        "\n",
        "  - **Fecha x Temas**\n",
        "\n",
        "        Muestra la evolución de los resultados obtenidos por el estudiante para cada uno de los temas en los distintos intervalos de tiempo seleccionados.\n",
        "\n",
        "  **Opciones de Gráfica:**\n",
        "\n",
        "    - **Nota Media**\n",
        "\n",
        "    - **Participación**\n",
        "\n",
        "    - **Aprobados**\n",
        "\n",
        "    - **% Aprobados**"
      ],
      "metadata": {
        "id": "I82gSmLXNkPl"
      }
    },
    {
      "cell_type": "markdown",
      "source": [
        "- **REGISTROS DE ACCESO**: Muestra mediante gráficas los registros de acceso de los estudiantes a los recursos de Moodle (indicado mediante su código de identificación) para cada uno de los intervalos de fecha deseados (dando la posibilidad de indicar la dirección IP desde la cual accede el estudiante al recurso)."
      ],
      "metadata": {
        "id": "jzJkRPmmH3Xp"
      }
    },
    {
      "cell_type": "markdown",
      "source": [
        "- **COMPARAR FICHEROS**: Compara mediante gráficas los resultados obtenidos por el conjunto de alumnos para cada uno de los intervalos de fecha deseados.\n",
        "\n",
        "  **Opciones de Gráfica:**\n",
        "\n",
        "    - **Nota Media**\n",
        "\n",
        "    - **Participación**\n",
        "\n",
        "    - **Aprobados**\n",
        "\n",
        "    - **% Aprobados**"
      ],
      "metadata": {
        "id": "YgWkMIq4LQkX"
      }
    },
    {
      "cell_type": "markdown",
      "source": [
        "Para más información existe un manual para el usuario en:\n",
        "https://github.com/javier23900/Analisis-y-visualizacion-de-interacciones-de-estudiantes-con-actividades-en-Moodle/blob/main/Manual%20de%20Usuario.pdf"
      ],
      "metadata": {
        "id": "yCj9217SG58F"
      }
    },
    {
      "cell_type": "code",
      "source": [
        "from Configuracion_General import *\n",
        "\n",
        "if __name__ == '__main__':\n",
        "  configuracion(diccionario_tema, diccionario_estudiantes, diccionario_registros, documentos, fechas)"
      ],
      "metadata": {
        "id": "mO2fQnIvNmOk"
      },
      "execution_count": null,
      "outputs": []
    }
  ]
}